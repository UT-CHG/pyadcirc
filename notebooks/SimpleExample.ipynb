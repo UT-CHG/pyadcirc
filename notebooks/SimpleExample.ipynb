{
 "cells": [
  {
   "cell_type": "markdown",
   "metadata": {},
   "source": [
    "# Tapis-Pylauncher - Simple Example\n",
    "\n",
    "Carlos del-Castillo-Negrete (cdelcastillo21@gmail.com)"
   ]
  },
  {
   "cell_type": "markdown",
   "metadata": {},
   "source": [
    "### NOTES\n",
    "\n",
    "- Note this notebooks is meant to be run with a bash kernel. If one is not installed for your jupyter instance install it using pip. See more instructions at https://pypi.org/project/bash_kernel/.\n",
    "and \n",
    "\n",
    "- This notebook assumes you have setup tapis in your current environment and have access to the pylauncher Tapis application. See the Setup notebook for more info. Make sure to run `tapis auth init --interactive` to referesh sessions in seperate terminal window if the Tapis session gets stale."
   ]
  },
  {
   "cell_type": "code",
   "execution_count": 3,
   "metadata": {},
   "outputs": [
    {
     "name": "stdout",
     "output_type": "stream",
     "text": [
      "(demo) "
     ]
    },
    {
     "ename": "",
     "evalue": "1",
     "output_type": "error",
     "traceback": []
    }
   ],
   "source": [
    "# Activate target environment\n",
    "export env_name=demo\n",
    "conda activate $env_name"
   ]
  },
  {
   "cell_type": "markdown",
   "metadata": {},
   "source": [
    "## Configuring"
   ]
  },
  {
   "cell_type": "code",
   "execution_count": 9,
   "metadata": {},
   "outputs": [],
   "source": [
    "export example=simple"
   ]
  },
  {
   "cell_type": "markdown",
   "metadata": {},
   "source": [
    "Let us configure a basic run of the shell app. First lets set some variable to their full paths for convenience."
   ]
  },
  {
   "cell_type": "code",
   "execution_count": 10,
   "metadata": {},
   "outputs": [
    {
     "name": "stdout",
     "output_type": "stream",
     "text": [
      "/home/jupyter/MyData/WebinarDemo/tapis-pylauncher\n"
     ]
    }
   ],
   "source": [
    "# Set base directory of where git hub project has been checked out.\n",
    "export nb_dir=$(dirname pwd)\n",
    "export base_dir=$(realpath $nb_dir/..)\n",
    "export app_dir=$base_dir/app\n",
    "export job_configs=$app_dir/job_configs\n",
    "export ini=$app_dir/project.ini\n",
    "\n",
    "echo $base_dir"
   ]
  },
  {
   "cell_type": "markdown",
   "metadata": {},
   "source": [
    "Lets create a data for sending inputs and downloading data from job runs:"
   ]
  },
  {
   "cell_type": "code",
   "execution_count": 11,
   "metadata": {},
   "outputs": [],
   "source": [
    "export data_dir=$nb_dir/data\n",
    "export inputs_dir=$nb_dir/data/inputs\n",
    "export down_dir=$nb_dir/data/downloads\n",
    "mkdir -p $data_dir; mkdir -p $inputs_dir; mkdir -p $down_dir"
   ]
  },
  {
   "cell_type": "markdown",
   "metadata": {},
   "source": [
    "Lets view the inputs that will be passed to our job:"
   ]
  },
  {
   "cell_type": "code",
   "execution_count": 12,
   "metadata": {},
   "outputs": [
    {
     "name": "stdout",
     "output_type": "stream",
     "text": [
      "Example simple Input Contents: \n",
      "total 2\n",
      "-rw-rw-r--+ 1 jupyter G-816877 188 Jan 26 06:04 jobs_list.csv\n",
      "-rwxrwxr-x+ 1 jupyter G-816877 934 Jan 26 07:20 main.sh\n",
      "-rw-rw-r--+ 1 jupyter G-816877 342 Jan 26 17:21 simple.json\n"
     ]
    }
   ],
   "source": [
    "echo \"Example $example Input Contents: \"; ls -l $job_configs/$example"
   ]
  },
  {
   "cell_type": "markdown",
   "metadata": {},
   "source": [
    "## Basic Run"
   ]
  },
  {
   "cell_type": "markdown",
   "metadata": {},
   "source": [
    "### Jobs to be Run\n",
    "\n",
    "Note how there is a static `jobs_list.csv` file in the simple example"
   ]
  },
  {
   "cell_type": "code",
   "execution_count": 7,
   "metadata": {},
   "outputs": [
    {
     "name": "stdout",
     "output_type": "stream",
     "text": [
      "2,echo \"Pre Process\" >> run_1.log ;./main.sh 1 >> run_1.log ;echo \"Post Process\" >> run_1.log\n",
      "2,echo \"Pre Process\" >> run_2.log ;./main.sh 2 >> run_2.log ;echo \"Post Process\" >> run_2.log\n"
     ]
    }
   ],
   "source": [
    "cat $job_configs/$example/jobs_list.csv"
   ]
  },
  {
   "cell_type": "markdown",
   "metadata": {},
   "source": [
    "### Submitting Job\n",
    "\n",
    "To submit job, first zip job directory up and then submit with appopriate json file. "
   ]
  },
  {
   "cell_type": "code",
   "execution_count": 7,
   "metadata": {},
   "outputs": [
    {
     "name": "stdout",
     "output_type": "stream",
     "text": [
      "(demo) (demo) (demo)   adding: home/jupyter/MyData/WebinarDemo/tapis-pylauncher/app/job_configs/shell_demo/cleanup.sh (deflated 41%)\n",
      "  adding: home/jupyter/MyData/WebinarDemo/tapis-pylauncher/app/job_configs/shell_demo/generator.py (deflated 56%)\n",
      "  adding: home/jupyter/MyData/WebinarDemo/tapis-pylauncher/app/job_configs/shell_demo/generator.sh (deflated 41%)\n",
      "  adding: home/jupyter/MyData/WebinarDemo/tapis-pylauncher/app/job_configs/shell_demo/main.sh (deflated 39%)\n",
      "  adding: home/jupyter/MyData/WebinarDemo/tapis-pylauncher/app/job_configs/shell_demo/post_process.sh (deflated 39%)\n",
      "  adding: home/jupyter/MyData/WebinarDemo/tapis-pylauncher/app/job_configs/shell_demo/pre_process.sh (deflated 40%)\n",
      "  adding: home/jupyter/MyData/WebinarDemo/tapis-pylauncher/app/job_configs/shell_demo/setup.sh (deflated 46%)\n",
      "  adding: home/jupyter/MyData/WebinarDemo/tapis-pylauncher/app/job_configs/shell_demo/shell_demo.json (deflated 44%)\n",
      "(demo) total 3\n",
      "drwxrwxr-x+ 3 jupyter G-816877 4096 Jan 26 07:55 shell_demo\n",
      "-rw-rw-r--+ 1 jupyter G-816877 5951 Jan 26 16:06 shell_demo.zip\n",
      "drwxr-xr-x+ 3 jupyter G-816877 4096 Jan 26 07:46 simple\n",
      "-rw-rw-r--+ 1 jupyter G-816877 1702 Jan 26 06:32 simple.zip\n",
      "(demo) (demo) (demo) +--------+------------------------------------------+\n",
      "| Field  | Value                                    |\n",
      "+--------+------------------------------------------+\n",
      "| id     | 378526c8-e0c0-43c5-afdd-a4835238bfa2-007 |\n",
      "| name   | pylauncher-test-shell_demo               |\n",
      "| status | ACCEPTED                                 |\n",
      "+--------+------------------------------------------+\u001b[0m\n",
      "\u001b[0m\u001b[0m(demo) "
     ]
    },
    {
     "ename": "",
     "evalue": "1",
     "output_type": "error",
     "traceback": []
    }
   ],
   "source": [
    "# Zip job inputs directory directory to send to job\n",
    "rm -f $inputs_dir/$example.zip\n",
    "zip -r $inputs_dir/$example.zip $job_configs/$example/*\n",
    "\n",
    "# Submit job - Note how we explicitly pass location of job json file and ini file as well\n",
    "tapis jobs submit -F $job_configs/$example/$example.json --ini $ini"
   ]
  },
  {
   "cell_type": "markdown",
   "metadata": {},
   "source": [
    "### Monitoring Job\n",
    "\n",
    "Once we've kicked off the job we can use a variety of methods to check in on how its doing using the tapis CLI. \n",
    "\n",
    "First we can start by using the show operation to get all the job info regarding the job we just submitted. \n",
    "\n",
    "Note how the latest job is grabbed from the tapis job list by grabbing the first column of the first row of the table returned by `tapis jobs list`."
   ]
  },
  {
   "cell_type": "code",
   "execution_count": 8,
   "metadata": {},
   "outputs": [
    {
     "name": "stdout",
     "output_type": "stream",
     "text": [
      "(demo) (demo) +--------------------+---------------------------------------------------------+\n",
      "| Field              | Value                                                   |\n",
      "+--------------------+---------------------------------------------------------+\n",
      "| accepted           | 2022-01-26T16:06:19.260Z                                |\n",
      "| appId              | pylauncher-test-0.0.1                                   |\n",
      "| appUuid            | 6724058001663463916-242ac118-0001-005                   |\n",
      "| archive            | True                                                    |\n",
      "| archiveOnAppError  | True                                                    |\n",
      "| archivePath        | clos21/archive/jobs/job-378526c8-e0c0-43c5-afdd-a483523 |\n",
      "|                    | 8bfa2-007                                               |\n",
      "| archiveSystem      | designsafe.storage.default                              |\n",
      "| blockedCount       | 0                                                       |\n",
      "| created            | 2022-01-26T16:06:19.267Z                                |\n",
      "| ended              | None                                                    |\n",
      "| failedStatusChecks | 0                                                       |\n",
      "| id                 | 378526c8-e0c0-43c5-afdd-a4835238bfa2-007                |\n",
      "| lastStatusCheck    | None                                                    |\n",
      "| lastStatusMessage  | Transitioning from status STAGING_JOB to SUBMITTING in  |\n",
      "|                    | phase SUBMITTING.                                       |\n",
      "| lastUpdated        | 2022-01-26T16:06:28.976Z                                |\n",
      "| maxHours           | 0.1                                                     |\n",
      "| memoryPerNode      | 1.0                                                     |\n",
      "| name               | pylauncher-test-shell_demo                              |\n",
      "| nodeCount          | 1                                                       |\n",
      "| owner              | clos21                                                  |\n",
      "| processorsPerNode  | 10                                                      |\n",
      "| remoteEnded        | None                                                    |\n",
      "| remoteJobId        | None                                                    |\n",
      "| remoteOutcome      | None                                                    |\n",
      "| remoteQueue        | skx-dev                                                 |\n",
      "| remoteStarted      | None                                                    |\n",
      "| remoteStatusChecks | 0                                                       |\n",
      "| remoteSubmitted    | None                                                    |\n",
      "| schedulerJobId     | None                                                    |\n",
      "| status             | SUBMITTING                                              |\n",
      "| submitRetries      | 0                                                       |\n",
      "| systemId           | designsafe.community.exec.stampede2.nores               |\n",
      "| tenantId           | designsafe                                              |\n",
      "| tenantQueue        | aloe.jobq.designsafe.submit.DefaultQueue                |\n",
      "| visible            | True                                                    |\n",
      "| workPath           | /scratch/00849/tg458981/designsafe-scratch/clos21/job-3 |\n",
      "|                    | 78526c8-e0c0-43c5-afdd-a4835238bfa2-007-pylauncher-     |\n",
      "|                    | test-shell_demo                                         |\n",
      "+--------------------+---------------------------------------------------------+\u001b[0m\n",
      "\u001b[0m\u001b[0m(demo) "
     ]
    },
    {
     "ename": "",
     "evalue": "1",
     "output_type": "error",
     "traceback": []
    }
   ],
   "source": [
    "# Show status of job just submitted - should be latest job in job list\n",
    "export latest_job=$(tapis jobs list | awk 'FNR == 4 {print $2}')\n",
    "tapis jobs show $latest_job"
   ]
  },
  {
   "cell_type": "markdown",
   "metadata": {},
   "source": [
    "Note how right after submitting, the job is in the STAGING_JOB status. There are several job statuses that a job can cycle through. After waiting a bit, the job will start running:"
   ]
  },
  {
   "cell_type": "code",
   "execution_count": 13,
   "metadata": {},
   "outputs": [
    {
     "name": "stdout",
     "output_type": "stream",
     "text": [
      "usage: tapis jobs show [-h] [-f {json,shell,table,value,yaml}] [-c COLUMN]\n",
      "                       [--noindent] [--prefix PREFIX] [--max-width <integer>]\n",
      "                       [--fit-width] [--print-empty] [-H URL] [-z TOKEN]\n",
      "                       [--no-verify] [-T]\n",
      "                       JOB_UUID\n",
      "tapis jobs show: error: the following arguments are required: JOB_UUID\n",
      "\n",
      "\u001b[0m"
     ]
    },
    {
     "ename": "",
     "evalue": "1",
     "output_type": "error",
     "traceback": []
    }
   ],
   "source": [
    "tapis jobs show $latest_job"
   ]
  },
  {
   "cell_type": "code",
   "execution_count": 11,
   "metadata": {},
   "outputs": [
    {
     "name": "stdout",
     "output_type": "stream",
     "text": [
      "+--------------------+---------------------------------------------------------+\n",
      "| Field              | Value                                                   |\n",
      "+--------------------+---------------------------------------------------------+\n",
      "| accepted           | 2022-01-26T16:06:19.260Z                                |\n",
      "| appId              | pylauncher-test-0.0.1                                   |\n",
      "| appUuid            | 6724058001663463916-242ac118-0001-005                   |\n",
      "| archive            | True                                                    |\n",
      "| archiveOnAppError  | True                                                    |\n",
      "| archivePath        | clos21/archive/jobs/job-378526c8-e0c0-43c5-afdd-a483523 |\n",
      "|                    | 8bfa2-007                                               |\n",
      "| archiveSystem      | designsafe.storage.default                              |\n",
      "| blockedCount       | 0                                                       |\n",
      "| created            | 2022-01-26T16:06:19.267Z                                |\n",
      "| ended              | 2 minutes ago                                           |\n",
      "| failedStatusChecks | 0                                                       |\n",
      "| id                 | 378526c8-e0c0-43c5-afdd-a4835238bfa2-007                |\n",
      "| lastStatusCheck    | 2 minutes ago                                           |\n",
      "| lastStatusMessage  | APPS_USER_APP_FAILURE Failure indicated by Slurm status |\n",
      "|                    | FAILED with user application return code: 1:0           |\n",
      "| lastUpdated        | 2022-01-26T16:08:02.832Z                                |\n",
      "| maxHours           | 0.1                                                     |\n",
      "| memoryPerNode      | 1.0                                                     |\n",
      "| name               | pylauncher-test-shell_demo                              |\n",
      "| nodeCount          | 1                                                       |\n",
      "| owner              | clos21                                                  |\n",
      "| processorsPerNode  | 10                                                      |\n",
      "| remoteEnded        | 2 minutes ago                                           |\n",
      "| remoteJobId        | 9062261                                                 |\n",
      "| remoteOutcome      | FAILED                                                  |\n",
      "| remoteQueue        | skx-dev                                                 |\n",
      "| remoteStarted      | 2022-01-26T16:06:38.890Z                                |\n",
      "| remoteStatusChecks | 2                                                       |\n",
      "| remoteSubmitted    | 3 minutes ago                                           |\n",
      "| schedulerJobId     | None                                                    |\n",
      "| status             | FAILED                                                  |\n",
      "| submitRetries      | 0                                                       |\n",
      "| systemId           | designsafe.community.exec.stampede2.nores               |\n",
      "| tenantId           | designsafe                                              |\n",
      "| tenantQueue        | aloe.jobq.designsafe.submit.DefaultQueue                |\n",
      "| visible            | True                                                    |\n",
      "| workPath           | /scratch/00849/tg458981/designsafe-scratch/clos21/job-3 |\n",
      "|                    | 78526c8-e0c0-43c5-afdd-a4835238bfa2-007-pylauncher-     |\n",
      "|                    | test-shell_demo                                         |\n",
      "+--------------------+---------------------------------------------------------+\u001b[0m\n",
      "\u001b[0m\u001b[0m(demo) "
     ]
    },
    {
     "ename": "",
     "evalue": "1",
     "output_type": "error",
     "traceback": []
    }
   ],
   "source": [
    "tapis job show $latest_job"
   ]
  },
  {
   "cell_type": "markdown",
   "metadata": {},
   "source": [
    "### Checking Job Outputs\n",
    "\n",
    "At which point we can check on the jobs outputs "
   ]
  },
  {
   "cell_type": "code",
   "execution_count": 94,
   "metadata": {},
   "outputs": [
    {
     "name": "stdout",
     "output_type": "stream",
     "text": [
      "+----------------------------------------------------+----------------+--------+\n",
      "| name                                               | lastModified   | length |\n",
      "+----------------------------------------------------+----------------+--------+\n",
      "| 2                                                  | 37 seconds ago |      0 |\n",
      "| __pycache__                                        | 37 seconds ago |   4096 |\n",
      "| cleanup.sh                                         | 35 minutes ago |    554 |\n",
      "| generator.py                                       | 2 minutes ago  |   1387 |\n",
      "| generator.sh                                       | 13 minutes ago |    832 |\n",
      "| hostlist3.py                                       | 44 seconds ago |  13823 |\n",
      "| jobs_list.json                                     | 37 seconds ago |    760 |\n",
      "| launch.py                                          | 44 seconds ago |    455 |\n",
      "| logs                                               | 37 seconds ago |   4096 |\n",
      "| main.sh                                            | 32 minutes ago |    889 |\n",
      "| outputs                                            | 37 seconds ago |   4096 |\n",
      "| post_process.sh                                    | 42 minutes ago |    672 |\n",
      "| pre_process.sh                                     | 46 minutes ago |    663 |\n",
      "| pylauncher-test-shell_demo-64a87e3e-7b3c-40e6-a4a6 | 37 seconds ago |   1595 |\n",
      "| -a285ff02cd18-007.err                              |                |        |\n",
      "| pylauncher-test-shell_demo-64a87e3e-7b3c-40e6-a4a6 | 37 seconds ago |   2086 |\n",
      "| -a285ff02cd18-007.out                              |                |        |\n",
      "| pylauncher-test-shell_demo.ipcexe                  | 44 seconds ago |   4984 |\n",
      "| pylauncher.log                                     | 37 seconds ago |   2048 |\n",
      "| pylauncher4.py                                     | 44 seconds ago |  56469 |\n",
      "| pylauncher_tmp9061340                              | 37 seconds ago |   4096 |\n",
      "| pylauncher_tmpdir_exec                             | 37 seconds ago |   4096 |\n",
      "| run.sh                                             | 44 seconds ago |   3222 |\n",
      "| runs                                               | 37 seconds ago |   4096 |\n",
      "| setup.sh                                           | 45 minutes ago |    949 |\n",
      "| shell_demo.json                                    | 10 minutes ago |    374 |\n",
      "| shell_demo.zip                                     | 47 seconds ago |   5951 |\n",
      "| test.sh                                            | 44 seconds ago |    405 |\n",
      "+----------------------------------------------------+----------------+--------+\u001b[0m\n",
      "\u001b[0m\u001b[0m(demo) "
     ]
    },
    {
     "ename": "",
     "evalue": "1",
     "output_type": "error",
     "traceback": []
    }
   ],
   "source": [
    "tapis job outputs list $latest_job"
   ]
  },
  {
   "cell_type": "code",
   "execution_count": 52,
   "metadata": {},
   "outputs": [
    {
     "name": "stdout",
     "output_type": "stream",
     "text": [
      "+-------------+-------+\n",
      "| Field       | Value |\n",
      "+-------------+-------+\n",
      "| downloaded  | 0     |\n",
      "| skipped     | 0     |\n",
      "| messages    | 1     |\n",
      "| elapsed_sec | 5     |\n",
      "+-------------+-------+\u001b[0m\n",
      "\u001b[0m\u001b[0m(demo) "
     ]
    },
    {
     "ename": "",
     "evalue": "1",
     "output_type": "error",
     "traceback": []
    }
   ],
   "source": [
    "tapis job outputs download --cwd  $latest_job run_1.log"
   ]
  },
  {
   "cell_type": "code",
   "execution_count": 51,
   "metadata": {},
   "outputs": [
    {
     "name": "stdout",
     "output_type": "stream",
     "text": [
      "pwd\n",
      "/home/jupyter/MyData/WebinarDemo/tapis-pylauncher/app/job_configs\n",
      "(demo) "
     ]
    },
    {
     "ename": "",
     "evalue": "1",
     "output_type": "error",
     "traceback": []
    }
   ],
   "source": [
    "!pwd"
   ]
  }
 ],
 "metadata": {
  "kernelspec": {
   "display_name": "chg-prod",
   "language": "python",
   "name": "chg-prod"
  },
  "language_info": {
   "codemirror_mode": {
    "name": "ipython",
    "version": 3
   },
   "file_extension": ".py",
   "mimetype": "text/x-python",
   "name": "python",
   "nbconvert_exporter": "python",
   "pygments_lexer": "ipython3",
   "version": "3.10.2"
  }
 },
 "nbformat": 4,
 "nbformat_minor": 4
}
