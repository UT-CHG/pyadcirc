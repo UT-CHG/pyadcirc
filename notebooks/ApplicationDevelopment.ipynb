{
 "cells": [
  {
   "cell_type": "markdown",
   "metadata": {},
   "source": [
    "# Tapis-Pylauncher Development Guide\n",
    "\n",
    "This notebook provides a brief overview of how to develop and deploy your own versions of the tapis-pylauncher application. "
   ]
  },
  {
   "cell_type": "markdown",
   "metadata": {},
   "source": [
    "### NOTES\n",
    "\n",
    "- Note this notebooks is meant to be run with a bash kernel. If one is not installed for your jupyter instance install it using pip. See more instructions at https://pypi.org/project/bash_kernel/.\n",
    "and \n",
    "\n",
    "- This notebook assumes you have setup tapis in your current environment and have access to the pylauncher Tapis application. See the Setup notebook for more info. Make sure to run `tapis auth init --interactive` to referesh sessions in seperate terminal window if the Tapis session gets stale."
   ]
  },
  {
   "cell_type": "code",
   "execution_count": 7,
   "metadata": {},
   "outputs": [
    {
     "name": "stdout",
     "output_type": "stream",
     "text": [
      "(demo) (demo) (demo) (demo) | pylauncher-test-0.0.1                | PYLAUNCHER                                 |\n",
      "| pylauncher-test-0.0.0                | PYLAUNCHER                                 |\n",
      "| pylauncher-0.0.0                     | PYLAUNCHER                                 |\n",
      "(demo) "
     ]
    },
    {
     "ename": "",
     "evalue": "1",
     "output_type": "error",
     "traceback": []
    }
   ],
   "source": [
    "# Activate target environment\n",
    "export env_name=demo\n",
    "conda activate $env_name\n",
    "\n",
    "tapis apps list | grep pylauncher"
   ]
  },
  {
   "cell_type": "markdown",
   "metadata": {},
   "source": [
    "## Application Directory"
   ]
  },
  {
   "cell_type": "code",
   "execution_count": 8,
   "metadata": {},
   "outputs": [
    {
     "name": "stdout",
     "output_type": "stream",
     "text": [
      "(demo) (demo) (demo) (demo) (demo) (demo) /home/jupyter/MyData/WebinarDemo/tapis-pylauncher\n",
      "(demo) "
     ]
    },
    {
     "ename": "",
     "evalue": "1",
     "output_type": "error",
     "traceback": []
    }
   ],
   "source": [
    "# Set base directory of where git hub project has been checked out.\n",
    "export nb_dir=$(dirname pwd)\n",
    "export base_dir=$(realpath $nb_dir/..)\n",
    "export app_dir=$base_dir/app\n",
    "export ini=$app_dir/project.ini\n",
    "\n",
    "echo $base_dir"
   ]
  },
  {
   "cell_type": "markdown",
   "metadata": {},
   "source": [
    "## Deploying Application\n",
    "\n",
    "Note this will only work if you have the app publisher role enabled on your account. You can check this with the tapis API by using the call:"
   ]
  },
  {
   "cell_type": "code",
   "execution_count": 11,
   "metadata": {},
   "outputs": [
    {
     "name": "stdout",
     "output_type": "stream",
     "text": [
      "(demo) (demo) app.json  assets  data  job_configs  project.ini\n",
      "app#name missing from configuration\n",
      "\u001b[0m(demo) "
     ]
    },
    {
     "ename": "",
     "evalue": "1",
     "output_type": "error",
     "traceback": []
    }
   ],
   "source": [
    "# Note how from the root of the applicaton directory (where assets, project.ini, app.json files are located)\n",
    "# We don't have to specify the -F or --ini parameters to the deploy call. \n",
    "cd $app_dir; ls; tapis app deploy"
   ]
  },
  {
   "cell_type": "code",
   "execution_count": 6,
   "metadata": {},
   "outputs": [
    {
     "name": "stdout",
     "output_type": "stream",
     "text": [
      "No application exists with ID pylauncher-0.0.1\n",
      "\u001b[0m(demo) "
     ]
    },
    {
     "ename": "",
     "evalue": "1",
     "output_type": "error",
     "traceback": []
    }
   ],
   "source": [
    "tapis app show pylauncher-0.0.0"
   ]
  },
  {
   "cell_type": "markdown",
   "metadata": {},
   "source": [
    "## Sharing Application\n"
   ]
  },
  {
   "cell_type": "code",
   "execution_count": 10,
   "metadata": {},
   "outputs": [
    {
     "name": "stdout",
     "output_type": "stream",
     "text": [
      "+----------+------+-------+---------+\n",
      "| username | read | write | execute |\n",
      "+----------+------+-------+---------+\n",
      "| clos21   | True | True  | True    |\n",
      "| bpachev  | True | False | True    |\n",
      "+----------+------+-------+---------+\u001b[0m\n",
      "\u001b[0m\u001b[0m(demo) "
     ]
    },
    {
     "ename": "",
     "evalue": "1",
     "output_type": "error",
     "traceback": []
    }
   ],
   "source": [
    "tapis apps pems list pylauncher-0.0.0"
   ]
  },
  {
   "cell_type": "code",
   "execution_count": null,
   "metadata": {},
   "outputs": [],
   "source": []
  }
 ],
 "metadata": {
  "citation-manager": {
   "items": {}
  },
  "kernelspec": {
   "display_name": "Python 3 (ipykernel)",
   "language": "python",
   "name": "python3"
  },
  "language_info": {
   "codemirror_mode": {
    "name": "ipython",
    "version": 3
   },
   "file_extension": ".py",
   "mimetype": "text/x-python",
   "name": "python",
   "nbconvert_exporter": "python",
   "pygments_lexer": "ipython3",
   "version": "3.10.2"
  }
 },
 "nbformat": 4,
 "nbformat_minor": 4
}
