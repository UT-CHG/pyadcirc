{
 "cells": [
  {
   "cell_type": "code",
   "execution_count": null,
   "id": "160d3968-89d1-4160-ac01-b9e3d90a8051",
   "metadata": {},
   "outputs": [],
   "source": [
    "from taccjm import taccjm as tjm"
   ]
  },
  {
   "cell_type": "markdown",
   "id": "23069df8-4764-4ddd-a3fa-9eda10661bf0",
   "metadata": {},
   "source": [
    "# Processing ADCIRC OUTPUT\n",
    "\n",
    "Purpose of this notebook is to compress ADCIRC Output Files and Generate Common Images Related to Them\n"
   ]
  },
  {
   "cell_type": "markdown",
   "id": "51944c72-fccd-4c4c-80d8-e2081160f316",
   "metadata": {},
   "source": [
    "## Running ADCIRC RUN\n",
    "\n",
    "Run an ADCIRC Run\n",
    "\n"
   ]
  }
 ],
 "metadata": {
  "kernelspec": {
   "display_name": "chg-prod",
   "language": "python",
   "name": "chg-prod"
  },
  "language_info": {
   "codemirror_mode": {
    "name": "ipython",
    "version": 3
   },
   "file_extension": ".py",
   "mimetype": "text/x-python",
   "name": "python",
   "nbconvert_exporter": "python",
   "pygments_lexer": "ipython3",
   "version": "3.10.2"
  }
 },
 "nbformat": 4,
 "nbformat_minor": 5
}
