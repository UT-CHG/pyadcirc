{
 "cells": [
  {
   "cell_type": "markdown",
   "metadata": {},
   "source": [
    "# Tapis-Pylauncher - Generator Example\n",
    "\n",
    "Carlos del-Castillo-Negrete (cdelcastillo21@gmail.com)"
   ]
  },
  {
   "cell_type": "markdown",
   "metadata": {},
   "source": [
    "### NOTES\n",
    "\n",
    "- Note this notebooks is meant to be run with a bash kernel. If one is not installed for your jupyter instance install it using pip. See more instructions at https://pypi.org/project/bash_kernel/.\n",
    "and \n",
    "\n",
    "- This notebook assumes you have setup tapis in your current environment and have access to the pylauncher Tapis application. See the Setup notebook for more info. Make sure to run `tapis auth init --interactive` to referesh sessions in seperate terminal window if the Tapis session gets stale."
   ]
  },
  {
   "cell_type": "code",
   "execution_count": 17,
   "metadata": {},
   "outputs": [
    {
     "name": "stdout",
     "output_type": "stream",
     "text": [
      "(demo) (demo) (demo) (demo) +--------------------------------------+--------------------------------------------+\n",
      "| id                                   | label                                      |\n",
      "+--------------------------------------+--------------------------------------------+\n",
      "| pylauncher-test-0.0.1                | PYLAUNCHER                                 |\n",
      "| pylauncher-test-0.0.0                | PYLAUNCHER                                 |\n",
      "(demo) "
     ]
    },
    {
     "ename": "",
     "evalue": "1",
     "output_type": "error",
     "traceback": []
    }
   ],
   "source": [
    "# Activate target environment\n",
    "export env_name=demo\n",
    "conda activate $env_name\n",
    "\n",
    "tapis apps list | head -n 5"
   ]
  },
  {
   "cell_type": "markdown",
   "metadata": {},
   "source": [
    "## Configuring"
   ]
  },
  {
   "cell_type": "code",
   "execution_count": 18,
   "metadata": {},
   "outputs": [
    {
     "name": "stdout",
     "output_type": "stream",
     "text": [
      "(demo) "
     ]
    },
    {
     "ename": "",
     "evalue": "1",
     "output_type": "error",
     "traceback": []
    }
   ],
   "source": [
    "export example=generator"
   ]
  },
  {
   "cell_type": "markdown",
   "metadata": {},
   "source": [
    "Let us configure a basic run of the shell app. First lets set some variable to their full paths for convenience."
   ]
  },
  {
   "cell_type": "code",
   "execution_count": 19,
   "metadata": {},
   "outputs": [
    {
     "name": "stdout",
     "output_type": "stream",
     "text": [
      "(demo) (demo) (demo) (demo) (demo) (demo) (demo) /home/jupyter/MyData/WebinarDemo/tapis-pylauncher\n",
      "(demo) "
     ]
    },
    {
     "ename": "",
     "evalue": "1",
     "output_type": "error",
     "traceback": []
    }
   ],
   "source": [
    "# Set base directory of where git hub project has been checked out.\n",
    "export nb_dir=$(dirname pwd)\n",
    "export base_dir=$(realpath $nb_dir/..)\n",
    "export app_dir=$base_dir/app\n",
    "export job_configs=$app_dir/job_configs\n",
    "export ini=$app_dir/project.ini\n",
    "\n",
    "echo $base_dir"
   ]
  },
  {
   "cell_type": "markdown",
   "metadata": {},
   "source": [
    "Lets create a data for sending inputs and downloading data from job runs:"
   ]
  },
  {
   "cell_type": "code",
   "execution_count": 20,
   "metadata": {},
   "outputs": [
    {
     "name": "stdout",
     "output_type": "stream",
     "text": [
      "(demo) (demo) (demo) (demo) "
     ]
    },
    {
     "ename": "",
     "evalue": "1",
     "output_type": "error",
     "traceback": []
    }
   ],
   "source": [
    "export data_dir=$nb_dir/data\n",
    "export inputs_dir=$nb_dir/data/inputs\n",
    "export down_dir=$nb_dir/data/downloads\n",
    "mkdir -p $data_dir; mkdir -p $inputs_dir; mkdir -p $down_dir"
   ]
  },
  {
   "cell_type": "markdown",
   "metadata": {},
   "source": [
    "Lets view the inputs that will be passed to our job:"
   ]
  },
  {
   "cell_type": "code",
   "execution_count": 21,
   "metadata": {},
   "outputs": [
    {
     "name": "stdout",
     "output_type": "stream",
     "text": [
      "Example generator Input Contents: \n",
      "total 4\n",
      "-rwxrwxr-x+ 1 jupyter G-816877  554 Jan 26 07:21 cleanup.sh\n",
      "-rw-rw-r--+ 1 jupyter G-816877  389 Jan 26 17:21 generator.json\n",
      "-rw-rw-r--+ 1 jupyter G-816877 1451 Jan 26 16:53 generator.py\n",
      "-rwxrwxr-x+ 1 jupyter G-816877  832 Jan 26 07:42 generator.sh\n",
      "-rwxrwxr-x+ 1 jupyter G-816877  889 Jan 26 07:23 main.sh\n",
      "-rwxrwxr-x+ 1 jupyter G-816877  672 Jan 26 07:14 post_process.sh\n",
      "-rwxrwxr-x+ 1 jupyter G-816877  663 Jan 26 07:09 pre_process.sh\n",
      "-rwxrwxr-x+ 1 jupyter G-816877  949 Jan 26 07:10 setup.sh\n",
      "(demo) "
     ]
    },
    {
     "ename": "",
     "evalue": "1",
     "output_type": "error",
     "traceback": []
    }
   ],
   "source": [
    "echo \"Example $example Input Contents: \"; ls -l $job_configs/$example"
   ]
  },
  {
   "cell_type": "markdown",
   "metadata": {},
   "source": [
    "### Submitting Job\n",
    "\n",
    "To submit job, first zip job directory up and then submit with appopriate json file. "
   ]
  },
  {
   "cell_type": "code",
   "execution_count": 22,
   "metadata": {},
   "outputs": [
    {
     "name": "stdout",
     "output_type": "stream",
     "text": [
      "(demo) (demo)   adding: home/jupyter/MyData/WebinarDemo/tapis-pylauncher/app/job_configs/generator/cleanup.sh (deflated 41%)\n",
      "  adding: home/jupyter/MyData/WebinarDemo/tapis-pylauncher/app/job_configs/generator/generator.json (deflated 45%)\n",
      "  adding: home/jupyter/MyData/WebinarDemo/tapis-pylauncher/app/job_configs/generator/generator.py (deflated 56%)\n",
      "  adding: home/jupyter/MyData/WebinarDemo/tapis-pylauncher/app/job_configs/generator/generator.sh (deflated 41%)\n",
      "  adding: home/jupyter/MyData/WebinarDemo/tapis-pylauncher/app/job_configs/generator/main.sh (deflated 39%)\n",
      "  adding: home/jupyter/MyData/WebinarDemo/tapis-pylauncher/app/job_configs/generator/post_process.sh (deflated 39%)\n",
      "  adding: home/jupyter/MyData/WebinarDemo/tapis-pylauncher/app/job_configs/generator/pre_process.sh (deflated 40%)\n",
      "  adding: home/jupyter/MyData/WebinarDemo/tapis-pylauncher/app/job_configs/generator/setup.sh (deflated 46%)\n",
      "(demo) (demo) (demo) +--------+------------------------------------------+\n",
      "| Field  | Value                                    |\n",
      "+--------+------------------------------------------+\n",
      "| id     | 0f5a0385-b1e6-4574-9bcd-f36adaccc644-007 |\n",
      "| name   | pylauncher-test-generator                |\n",
      "| status | ACCEPTED                                 |\n",
      "+--------+------------------------------------------+\u001b[0m\n",
      "\u001b[0m\u001b[0m(demo) "
     ]
    },
    {
     "ename": "",
     "evalue": "1",
     "output_type": "error",
     "traceback": []
    }
   ],
   "source": [
    "# Zip job inputs directory directory to send to job\n",
    "rm -f $inputs_dir/$example.zip\n",
    "zip -r $inputs_dir/$example.zip $job_configs/$example/*\n",
    "\n",
    "# Submit job - Note how we explicitly pass location of job json file and ini file as well\n",
    "tapis jobs submit -F $job_configs/$example/$example.json --ini $ini"
   ]
  },
  {
   "cell_type": "markdown",
   "metadata": {},
   "source": [
    "### Monitoring Job\n",
    "\n",
    "Once we've kicked off the job we can use a variety of methods to check in on how its doing using the tapis CLI. \n",
    "\n",
    "First we can start by using the show operation to get all the job info regarding the job we just submitted. \n",
    "\n",
    "Note how the latest job is grabbed from the tapis job list by grabbing the first column of the first row of the table returned by `tapis jobs list`."
   ]
  },
  {
   "cell_type": "code",
   "execution_count": 23,
   "metadata": {},
   "outputs": [
    {
     "name": "stdout",
     "output_type": "stream",
     "text": [
      "(demo) (demo) 0f5a0385-b1e6-4574-9bcd-f36adaccc644-007\n",
      "(demo) "
     ]
    },
    {
     "ename": "",
     "evalue": "1",
     "output_type": "error",
     "traceback": []
    }
   ],
   "source": [
    "# Show status of job just submitted - should be latest job in job list\n",
    "export latest_job=$(tapis jobs list | awk 'FNR == 4 {print $2}')\n",
    "echo $latest_job"
   ]
  },
  {
   "cell_type": "code",
   "execution_count": 25,
   "metadata": {},
   "outputs": [
    {
     "name": "stdout",
     "output_type": "stream",
     "text": [
      "+--------------------+---------------------------------------------------------+\n",
      "| Field              | Value                                                   |\n",
      "+--------------------+---------------------------------------------------------+\n",
      "| accepted           | 2022-01-26T17:27:37.248Z                                |\n",
      "| appId              | pylauncher-test-0.0.1                                   |\n",
      "| appUuid            | 6724058001663463916-242ac118-0001-005                   |\n",
      "| archive            | True                                                    |\n",
      "| archiveOnAppError  | True                                                    |\n",
      "| archivePath        | clos21/archive/jobs/job-0f5a0385-b1e6-4574-9bcd-f36adac |\n",
      "|                    | cc644-007                                               |\n",
      "| archiveSystem      | designsafe.storage.default                              |\n",
      "| blockedCount       | 0                                                       |\n",
      "| created            | 2022-01-26T17:27:37.251Z                                |\n",
      "| ended              | 2 minutes ago                                           |\n",
      "| failedStatusChecks | 0                                                       |\n",
      "| id                 | 0f5a0385-b1e6-4574-9bcd-f36adaccc644-007                |\n",
      "| lastStatusCheck    | 3 minutes ago                                           |\n",
      "| lastStatusMessage  | Transitioning from status ARCHIVING to FINISHED in      |\n",
      "|                    | phase ARCHIVING.                                        |\n",
      "| lastUpdated        | 2022-01-26T17:29:40.001Z                                |\n",
      "| maxHours           | 0.1                                                     |\n",
      "| memoryPerNode      | 1.0                                                     |\n",
      "| name               | pylauncher-test-generator                               |\n",
      "| nodeCount          | 1                                                       |\n",
      "| owner              | clos21                                                  |\n",
      "| processorsPerNode  | 10                                                      |\n",
      "| remoteEnded        | 3 minutes ago                                           |\n",
      "| remoteJobId        | 9062672                                                 |\n",
      "| remoteOutcome      | FINISHED                                                |\n",
      "| remoteQueue        | skx-dev                                                 |\n",
      "| remoteStarted      | 2022-01-26T17:29:03.285Z                                |\n",
      "| remoteStatusChecks | 2                                                       |\n",
      "| remoteSubmitted    | 4 minutes ago                                           |\n",
      "| schedulerJobId     | None                                                    |\n",
      "| status             | FINISHED                                                |\n",
      "| submitRetries      | 0                                                       |\n",
      "| systemId           | designsafe.community.exec.stampede2.nores               |\n",
      "| tenantId           | designsafe                                              |\n",
      "| tenantQueue        | aloe.jobq.designsafe.submit.DefaultQueue                |\n",
      "| visible            | True                                                    |\n",
      "| workPath           | /scratch/00849/tg458981/designsafe-scratch/clos21/job-0 |\n",
      "|                    | f5a0385-b1e6-4574-9bcd-f36adaccc644-007-pylauncher-     |\n",
      "|                    | test-generator                                          |\n",
      "+--------------------+---------------------------------------------------------+\u001b[0m\n",
      "\u001b[0m\u001b[0m(demo) "
     ]
    },
    {
     "ename": "",
     "evalue": "1",
     "output_type": "error",
     "traceback": []
    }
   ],
   "source": [
    "tapis jobs show $latest_job"
   ]
  },
  {
   "cell_type": "code",
   "execution_count": 19,
   "metadata": {},
   "outputs": [
    {
     "name": "stdout",
     "output_type": "stream",
     "text": [
      "+-----------+--------------+--------+\n",
      "| name      | lastModified | length |\n",
      "+-----------+--------------+--------+\n",
      "| job_0.log | a minute ago |    405 |\n",
      "| job_1.log | a minute ago |    405 |\n",
      "| job_2.log | a minute ago |    405 |\n",
      "| job_3.log | a minute ago |    405 |\n",
      "| job_4.log | a minute ago |    405 |\n",
      "+-----------+--------------+--------+\u001b[0m\n",
      "\u001b[0m\u001b[0m(demo) "
     ]
    },
    {
     "ename": "",
     "evalue": "1",
     "output_type": "error",
     "traceback": []
    }
   ],
   "source": [
    "tapis job outputs list $latest_job logs"
   ]
  },
  {
   "cell_type": "code",
   "execution_count": 23,
   "metadata": {},
   "outputs": [
    {
     "name": "stdout",
     "output_type": "stream",
     "text": [
      "400 Client Error: Bad Request for url: https://agave.designsafe-ci.org/token\n",
      "\u001b[0mls: cannot access './data': No such file or directory\n",
      "(demo) "
     ]
    },
    {
     "ename": "",
     "evalue": "1",
     "output_type": "error",
     "traceback": []
    }
   ],
   "source": [
    "cd $data_dir; tapis job outputs download --cwd  $latest_job logs/job_1.log; cd $nb_dir; ls $data_dir"
   ]
  },
  {
   "cell_type": "code",
   "execution_count": null,
   "metadata": {},
   "outputs": [],
   "source": []
  }
 ],
 "metadata": {
  "kernelspec": {
   "display_name": "Bash",
   "language": "bash",
   "name": "bash"
  },
  "language_info": {
   "codemirror_mode": "shell",
   "file_extension": ".sh",
   "mimetype": "text/x-sh",
   "name": "bash"
  }
 },
 "nbformat": 4,
 "nbformat_minor": 4
}
