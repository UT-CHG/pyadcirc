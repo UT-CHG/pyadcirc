{
 "cells": [
  {
   "cell_type": "markdown",
   "metadata": {},
   "source": [
    "# Tapis-Pylauncher - Setup and Installation\n",
    "\n",
    "Carlos del-Castillo-Negrete (cdelcastillo21@gmail.com)"
   ]
  },
  {
   "cell_type": "markdown",
   "metadata": {},
   "source": [
    "### NOTES\n",
    "\n",
    "- For more documentation on tapis cli see official docs https://tapis-cli.readthedocs.io/en/latest/contents.html and https://tacc-cloud.readthedocs.io/projects/agave/en/latest/.\n",
    "\n",
    "- For an excellent video webinar going into details of the Tapis system architecture and what's going on underneath the hood, watch Webinar from December 2020 at https://youtu.be/-_1lNWW8CAg.\n",
    "\n",
    "- Note this notebooks is meant to be run with a bash kernel. If one is not installed for your jupyter instance install it using pip. See more instructions at https://pypi.org/project/bash_kernel/.\n",
    "and \n",
    "\n",
    "- This notebook assumes that you have conda installed and initialized in your environment. If you don't follow installation instructions on https://docs.conda.io/projects/conda/en/latest/user-guide/install/index.html."
   ]
  },
  {
   "cell_type": "code",
   "execution_count": 33,
   "metadata": {},
   "outputs": [
    {
     "name": "stdout",
     "output_type": "stream",
     "text": [
      "(demo) (demo) /home/jupyter/MyData/WebinarDemo/tapis-pylauncher\n",
      "(demo) "
     ]
    },
    {
     "ename": "",
     "evalue": "1",
     "output_type": "error",
     "traceback": []
    }
   ],
   "source": [
    "# Set base directory of where git hub project has been checked out. \n",
    "export base_dir=$(realpath $(dirname pwd)/..)\n",
    "echo $base_dir"
   ]
  },
  {
   "cell_type": "markdown",
   "metadata": {},
   "source": [
    "## Python environment for Tapis with Conda\n",
    "\n",
    "You want to keep your base conda installation clean. A yaml file has been provided to set-up a target environment with name `demo`. To create this environment:\n",
    "\n",
    "```\n",
    "conda env create -f $base_dir/demo.yml\n",
    "```\n",
    "\n",
    "This will set-up python packages necessary for all demos included. If you want to change the name of the defaul demo environment, you'll need to edit the first line of the yaml file adequately."
   ]
  },
  {
   "cell_type": "code",
   "execution_count": 19,
   "metadata": {},
   "outputs": [
    {
     "name": "stdout",
     "output_type": "stream",
     "text": [
      "Conda environment to place tapis cli in is demo\n",
      "(demo) "
     ]
    },
    {
     "ename": "",
     "evalue": "1",
     "output_type": "error",
     "traceback": []
    }
   ],
   "source": [
    "# Activate target environment\n",
    "export env_name=demo \n",
    "echo \"Conda environment to place tapis cli in is\" $env_name\n",
    "conda activate $env_name"
   ]
  },
  {
   "cell_type": "code",
   "execution_count": 13,
   "metadata": {},
   "outputs": [
    {
     "name": "stdout",
     "output_type": "stream",
     "text": [
      "/home/jupyter/mydata/jupyter_packages/envs/adcirc/bin/tapis\n"
     ]
    }
   ],
   "source": [
    "# Verify we are accessing the correct tapis installation\n",
    "which tapis"
   ]
  },
  {
   "cell_type": "markdown",
   "metadata": {},
   "source": [
    "## Tapis - Initializing Client\n",
    "\n",
    "Now we need to initialize the tapis client. You can do ths in an interactive session in the terminal (in the proper conda environment created above). Run:\n",
    "\n",
    "```tapis auth init --interactive``` \n",
    "\n",
    "to initialize tapis client and connect to a tenant. The tenant options will look somethingl like:\n",
    "\n",
    "```\n",
    "+---------------+--------------------------------------+----------------------------------------+\n",
    "|      Name     |             Description              |                  URL                   |\n",
    "+---------------+--------------------------------------+----------------------------------------+\n",
    "|      3dem     |             3dem Tenant              |         https://api.3dem.org/          |\n",
    "|     a2cps     |   Acute to Chronic Pain Signatures   |         https://api.a2cps.org/         |\n",
    "|     bridge    |                Bridge                |     https://api.bridge.tacc.cloud/     |\n",
    "|   designsafe  |              DesignSafe              |    https://agave.designsafe-ci.org/    |\n",
    "|  iplantc.org  |         CyVerse Science APIs         |       https://agave.iplantc.org/       |\n",
    "|      irec     |              iReceptor               | https://irec.tenants.prod.tacc.cloud/  |\n",
    "|    portals    |            Portals Tenant            |  https://portals-api.tacc.utexas.edu/  |\n",
    "|      sd2e     |             SD2E Tenant              |         https://api.sd2e.org/          |\n",
    "|      sgci     | Science Gateways Community Institute |        https://sgci.tacc.cloud/        |\n",
    "|   tacc.prod   |                 TACC                 |      https://api.tacc.utexas.edu/      |\n",
    "| vdjserver.org |              VDJ Server              | https://vdj-agave-api.tacc.utexas.edu/ |\n",
    "+---------------+--------------------------------------+----------------------------------------+\n",
    "```\n",
    "\n",
    "In this case select `designsafe` tenant and continue with designsafe/tacc login credentials.\n",
    "\n",
    "A sequence of questions will be asked. Note that you don't have to put valid docker or github credentials for now. They can be set up later.\n",
    "\n",
    "For more documentation on initializing the TACC client, see [documentation](https://tapis-cli.readthedocs.io/en/latest/getting-started/initializing.html)."
   ]
  },
  {
   "cell_type": "code",
   "execution_count": 17,
   "metadata": {},
   "outputs": [
    {
     "name": "stdout",
     "output_type": "stream",
     "text": [
      "+--------------+--------------------------+\n",
      "| Field        | Value                    |\n",
      "+--------------+--------------------------+\n",
      "| first_name   | Carlos                   |\n",
      "| last_name    | Del-Castillo-Negrete     |\n",
      "| email        | cdelcastillo21@gmail.com |\n",
      "| mobile_phone |                          |\n",
      "| phone        |                          |\n",
      "| username     | clos21                   |\n",
      "+--------------+--------------------------+\u001b[0m\n",
      "\u001b[0m\u001b[0m"
     ]
    }
   ],
   "source": [
    "# Verify taps is initialize appropriate by trying to get user profile\n",
    "tapis profile show self"
   ]
  },
  {
   "cell_type": "markdown",
   "metadata": {},
   "source": [
    "## Getting Access to Tapis-Pylauncher Application\n",
    "\n",
    "To get access to the tapis-pylauncher app, until it is made a public app, email cdelcastillo2@gmail.com with your TACC/DesignSafe username and the app will be shared via the tapis cli using:\n",
    "\n",
    "```\n",
    "tapis apps pems grant pylauncher-0.0.0 <username> READ_EXECUTE\n",
    "```\n",
    "\n",
    "Note the code for the pylauncher application is included here for clarity so that users can see what's going on. \n",
    "\n",
    "**Note about developing Tapis Apps** - Since application publishing privelages are more limited (open a ticket with DesignSafe if you'd like to get app publishing privelages - most likely you'll need TACC ssh access as well to adequately be able to develop new apps), you can't modify the tapis-pylauncher application itself. But don't worry, how its built, its highly customizable to a wide variety of examples and most likely doesn't need major modifications (but certaintly isn't bug proof most likely!).  "
   ]
  },
  {
   "cell_type": "code",
   "execution_count": 24,
   "metadata": {},
   "outputs": [
    {
     "name": "stdout",
     "output_type": "stream",
     "text": [
      "+-------------+----------+------------+------------------+----------+-----------------+\n",
      "| id          | revision | label      | shortDescription | isPublic | executionSystem |\n",
      "+-------------+----------+------------+------------------+----------+-----------------+\n",
      "| pylauncher- |       21 | PYLAUNCHER | General purpose  | False    | designsafe.comm |\n",
      "| 0.0.0       |          |            | pylauncher       |          | unity.exec.stam |\n",
      "|             |          |            | application      |          | pede2.nores     |\n",
      "| pylauncher- |        1 | PYLAUNCHER | General purpose  | False    | designsafe.comm |\n",
      "| test-0.0.0  |          |            | pylauncher       |          | unity.exec.stam |\n",
      "|             |          |            | application      |          | pede2.nores     |\n",
      "+-------------+----------+------------+------------------+----------+-----------------+\u001b[0m\n",
      "\u001b[0m\u001b[0m(demo) "
     ]
    },
    {
     "ename": "",
     "evalue": "1",
     "output_type": "error",
     "traceback": []
    }
   ],
   "source": [
    "tapis apps search --name start pylauncher"
   ]
  },
  {
   "cell_type": "code",
   "execution_count": 28,
   "metadata": {},
   "outputs": [
    {
     "name": "stdout",
     "output_type": "stream",
     "text": [
      "(demo) "
     ]
    },
    {
     "ename": "",
     "evalue": "1",
     "output_type": "error",
     "traceback": []
    }
   ],
   "source": [
    "export app_id=pylauncher-0.0.0"
   ]
  },
  {
   "cell_type": "code",
   "execution_count": 32,
   "metadata": {},
   "outputs": [
    {
     "name": "stdout",
     "output_type": "stream",
     "text": [
      "(demo) (demo) +--------------------------+---------------------------------------------------+\n",
      "| Field                    | Value                                             |\n",
      "+--------------------------+---------------------------------------------------+\n",
      "| id                       | pylauncher-0.0.0                                  |\n",
      "| name                     | pylauncher                                        |\n",
      "| version                  | 0.0.0                                             |\n",
      "| revision                 | 21                                                |\n",
      "| label                    | PYLAUNCHER                                        |\n",
      "| lastModified             | 10 hours ago                                      |\n",
      "| shortDescription         | General purpose pylauncher application            |\n",
      "| longDescription          | Wrapper around TACC's pylauncher utility, a       |\n",
      "|                          | paramateric job launcher. Takes in a generator.sh |\n",
      "|                          | shell script and supporting files, all in a       |\n",
      "|                          | folder, as input, and alternates between calling  |\n",
      "|                          | the generator.sh script to generate an input file |\n",
      "|                          | for pylauncher launching pylauncher with said     |\n",
      "|                          | input file, until the generator.sh script         |\n",
      "|                          | generatoes no output for the pylauncher           |\n",
      "|                          | application. For further documentation and        |\n",
      "|                          | description see                                   |\n",
      "|                          | https://github.com/cdelcastillo21/tapis-          |\n",
      "|                          | pylauncher.                                       |\n",
      "| owner                    | clos21                                            |\n",
      "| isPublic                 | False                                             |\n",
      "| executionType            | HPC                                               |\n",
      "| executionSystem          | designsafe.community.exec.stampede2.nores         |\n",
      "| deploymentSystem         | designsafe.storage.default                        |\n",
      "| available                | True                                              |\n",
      "| parallelism              | PARALLEL                                          |\n",
      "| defaultProcessorsPerNode | 10                                                |\n",
      "| defaultMemoryPerNode     | 4                                                 |\n",
      "| defaultNodeCount         | 1                                                 |\n",
      "| defaultMaxRunTime        | 02:00:00                                          |\n",
      "| defaultQueue             | skx-dev                                           |\n",
      "| helpURI                  |                                                   |\n",
      "| deploymentPath           | clos21/apps/pylauncher-0.0.0                      |\n",
      "| templatePath             | run.sh                                            |\n",
      "| testPath                 | test.sh                                           |\n",
      "| checkpointable           | False                                             |\n",
      "| uuid                     | 8171714450278444565-242ac118-0001-005             |\n",
      "| icon                     | None                                              |\n",
      "+--------------------------+---------------------------------------------------+\u001b[0m\n",
      "\u001b[0m\u001b[0m(demo) "
     ]
    },
    {
     "ename": "",
     "evalue": "1",
     "output_type": "error",
     "traceback": []
    }
   ],
   "source": [
    "# If the application has been shared appropriately,\n",
    "# this command shoudl get the application config\n",
    "tapis app show $app_id"
   ]
  },
  {
   "cell_type": "code",
   "execution_count": 31,
   "metadata": {},
   "outputs": [
    {
     "name": "stdout",
     "output_type": "stream",
     "text": [
      "(demo) +----------+------+-------+---------+\n",
      "| username | read | write | execute |\n",
      "+----------+------+-------+---------+\n",
      "| clos21   | True | True  | True    |\n",
      "| bpachev  | True | False | True    |\n",
      "+----------+------+-------+---------+\u001b[0m\n",
      "\u001b[0m\u001b[0m(demo) "
     ]
    },
    {
     "ename": "",
     "evalue": "1",
     "output_type": "error",
     "traceback": []
    }
   ],
   "source": [
    "# List who the application is shared with currently\n",
    "tapis apps pems list $app_id"
   ]
  },
  {
   "cell_type": "code",
   "execution_count": null,
   "metadata": {},
   "outputs": [],
   "source": []
  }
 ],
 "metadata": {
  "kernelspec": {
   "display_name": "chg-prod",
   "language": "python",
   "name": "chg-prod"
  },
  "language_info": {
   "codemirror_mode": {
    "name": "ipython",
    "version": 3
   },
   "file_extension": ".py",
   "mimetype": "text/x-python",
   "name": "python",
   "nbconvert_exporter": "python",
   "pygments_lexer": "ipython3",
   "version": "3.10.2"
  }
 },
 "nbformat": 4,
 "nbformat_minor": 4
}
